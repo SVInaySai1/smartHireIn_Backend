{
 "cells": [
  {
   "cell_type": "code",
   "execution_count": 1,
   "metadata": {},
   "outputs": [
    {
     "name": "stdout",
     "output_type": "stream",
     "text": [
      "Requirement already satisfied: mysql-connector-python in c:\\users\\ptd-1126\\appdata\\local\\programs\\python\\python311\\lib\\site-packages (8.2.0)\n",
      "Requirement already satisfied: protobuf<=4.21.12,>=4.21.1 in c:\\users\\ptd-1126\\appdata\\local\\programs\\python\\python311\\lib\\site-packages (from mysql-connector-python) (4.21.12)\n",
      "Note: you may need to restart the kernel to use updated packages.\n"
     ]
    }
   ],
   "source": [
    "pip install mysql-connector-python"
   ]
  },
  {
   "cell_type": "code",
   "execution_count": 15,
   "metadata": {},
   "outputs": [
    {
     "name": "stderr",
     "output_type": "stream",
     "text": [
      "C:\\Users\\Ptd-1126\\AppData\\Local\\Temp\\ipykernel_11080\\3256193227.py:2: DeprecationWarning: The '__version__' attribute is deprecated and will be removed in Flask 3.1. Use feature detection or 'importlib.metadata.version(\"flask\")' instead.\n",
      "  flask.__version__\n"
     ]
    },
    {
     "data": {
      "text/plain": [
       "'3.0.0'"
      ]
     },
     "execution_count": 15,
     "metadata": {},
     "output_type": "execute_result"
    }
   ],
   "source": [
    "import flask\n",
    "flask.__version__"
   ]
  },
  {
   "cell_type": "code",
   "execution_count": 3,
   "metadata": {},
   "outputs": [
    {
     "name": "stdout",
     "output_type": "stream",
     "text": [
      "Requirement already satisfied: mysql-connector-python in c:\\users\\ptd-1126\\appdata\\local\\programs\\python\\python311\\lib\\site-packages (8.2.0)\n",
      "Collecting mysql-connector-python\n",
      "  Downloading mysql_connector_python-8.4.0-cp311-cp311-win_amd64.whl.metadata (2.0 kB)\n",
      "Requirement already satisfied: httpcore in c:\\users\\ptd-1126\\appdata\\local\\programs\\python\\python311\\lib\\site-packages (0.9.1)\n",
      "Collecting httpcore\n",
      "  Using cached httpcore-1.0.5-py3-none-any.whl.metadata (20 kB)\n",
      "Requirement already satisfied: certifi in c:\\users\\ptd-1126\\appdata\\local\\programs\\python\\python311\\lib\\site-packages (from httpcore) (2023.7.22)\n",
      "Collecting h11<0.15,>=0.13 (from httpcore)\n",
      "  Using cached h11-0.14.0-py3-none-any.whl.metadata (8.2 kB)\n",
      "Downloading mysql_connector_python-8.4.0-cp311-cp311-win_amd64.whl (14.5 MB)\n",
      "   ---------------------------------------- 0.0/14.5 MB ? eta -:--:--\n",
      "   ---------------------------------------- 0.0/14.5 MB ? eta -:--:--\n",
      "   ---------------------------------------- 0.0/14.5 MB 653.6 kB/s eta 0:00:23\n",
      "    --------------------------------------- 0.2/14.5 MB 2.0 MB/s eta 0:00:08\n",
      "   - -------------------------------------- 0.5/14.5 MB 2.6 MB/s eta 0:00:06\n",
      "   -- ------------------------------------- 0.9/14.5 MB 4.3 MB/s eta 0:00:04\n",
      "   ---- ----------------------------------- 1.5/14.5 MB 5.8 MB/s eta 0:00:03\n",
      "   ---- ----------------------------------- 1.7/14.5 MB 5.8 MB/s eta 0:00:03\n",
      "   ---- ----------------------------------- 1.7/14.5 MB 5.8 MB/s eta 0:00:03\n",
      "   ------ --------------------------------- 2.3/14.5 MB 5.7 MB/s eta 0:00:03\n",
      "   ------ --------------------------------- 2.4/14.5 MB 5.4 MB/s eta 0:00:03\n",
      "   ------- -------------------------------- 2.8/14.5 MB 5.8 MB/s eta 0:00:03\n",
      "   -------- ------------------------------- 2.9/14.5 MB 5.7 MB/s eta 0:00:03\n",
      "   -------- ------------------------------- 3.0/14.5 MB 5.4 MB/s eta 0:00:03\n",
      "   -------- ------------------------------- 3.0/14.5 MB 5.4 MB/s eta 0:00:03\n",
      "   -------- ------------------------------- 3.2/14.5 MB 4.9 MB/s eta 0:00:03\n",
      "   ---------- ----------------------------- 3.6/14.5 MB 5.2 MB/s eta 0:00:03\n",
      "   ---------- ----------------------------- 3.8/14.5 MB 5.1 MB/s eta 0:00:03\n",
      "   ----------- ---------------------------- 4.2/14.5 MB 5.3 MB/s eta 0:00:02\n",
      "   ------------ --------------------------- 4.4/14.5 MB 5.1 MB/s eta 0:00:02\n",
      "   ------------- -------------------------- 4.8/14.5 MB 5.3 MB/s eta 0:00:02\n",
      "   ------------- -------------------------- 5.0/14.5 MB 5.2 MB/s eta 0:00:02\n",
      "   -------------- ------------------------- 5.3/14.5 MB 5.4 MB/s eta 0:00:02\n",
      "   --------------- ------------------------ 5.4/14.5 MB 5.2 MB/s eta 0:00:02\n",
      "   ---------------- ----------------------- 5.8/14.5 MB 5.3 MB/s eta 0:00:02\n",
      "   ---------------- ----------------------- 6.1/14.5 MB 5.3 MB/s eta 0:00:02\n",
      "   ----------------- ---------------------- 6.2/14.5 MB 5.4 MB/s eta 0:00:02\n",
      "   ----------------- ---------------------- 6.2/14.5 MB 5.4 MB/s eta 0:00:02\n",
      "   ------------------ --------------------- 6.8/14.5 MB 5.3 MB/s eta 0:00:02\n",
      "   ------------------- -------------------- 7.0/14.5 MB 5.2 MB/s eta 0:00:02\n",
      "   -------------------- ------------------- 7.2/14.5 MB 5.3 MB/s eta 0:00:02\n",
      "   -------------------- ------------------- 7.5/14.5 MB 5.3 MB/s eta 0:00:02\n",
      "   --------------------- ------------------ 7.9/14.5 MB 5.3 MB/s eta 0:00:02\n",
      "   ---------------------- ----------------- 8.2/14.5 MB 5.4 MB/s eta 0:00:02\n",
      "   ----------------------- ---------------- 8.6/14.5 MB 5.5 MB/s eta 0:00:02\n",
      "   ------------------------ --------------- 8.9/14.5 MB 5.5 MB/s eta 0:00:02\n",
      "   ------------------------- -------------- 9.2/14.5 MB 5.5 MB/s eta 0:00:01\n",
      "   -------------------------- ------------- 9.6/14.5 MB 5.6 MB/s eta 0:00:01\n",
      "   --------------------------- ------------ 10.0/14.5 MB 5.6 MB/s eta 0:00:01\n",
      "   ---------------------------- ----------- 10.3/14.5 MB 6.0 MB/s eta 0:00:01\n",
      "   ----------------------------- ---------- 10.8/14.5 MB 6.1 MB/s eta 0:00:01\n",
      "   ------------------------------- -------- 11.3/14.5 MB 6.1 MB/s eta 0:00:01\n",
      "   -------------------------------- ------- 11.8/14.5 MB 6.2 MB/s eta 0:00:01\n",
      "   --------------------------------- ------ 12.2/14.5 MB 6.4 MB/s eta 0:00:01\n",
      "   ----------------------------------- ---- 12.7/14.5 MB 6.5 MB/s eta 0:00:01\n",
      "   ------------------------------------ --- 13.2/14.5 MB 6.5 MB/s eta 0:00:01\n",
      "   -------------------------------------- - 13.8/14.5 MB 7.1 MB/s eta 0:00:01\n",
      "   ---------------------------------------  14.3/14.5 MB 7.3 MB/s eta 0:00:01\n",
      "   ---------------------------------------- 14.5/14.5 MB 7.4 MB/s eta 0:00:00\n",
      "Using cached httpcore-1.0.5-py3-none-any.whl (77 kB)\n",
      "Using cached h11-0.14.0-py3-none-any.whl (58 kB)\n",
      "Installing collected packages: mysql-connector-python, h11, httpcore\n",
      "  Attempting uninstall: mysql-connector-python\n",
      "    Found existing installation: mysql-connector-python 8.2.0\n",
      "    Uninstalling mysql-connector-python-8.2.0:\n",
      "      Successfully uninstalled mysql-connector-python-8.2.0\n",
      "  Attempting uninstall: h11\n",
      "    Found existing installation: h11 0.9.0\n",
      "    Uninstalling h11-0.9.0:\n",
      "      Successfully uninstalled h11-0.9.0\n",
      "  Attempting uninstall: httpcore\n",
      "    Found existing installation: httpcore 0.9.1\n",
      "    Uninstalling httpcore-0.9.1:\n",
      "      Successfully uninstalled httpcore-0.9.1\n",
      "Successfully installed h11-0.14.0 httpcore-1.0.5 mysql-connector-python-8.4.0\n",
      "Note: you may need to restart the kernel to use updated packages.\n"
     ]
    },
    {
     "name": "stderr",
     "output_type": "stream",
     "text": [
      "  WARNING: Failed to remove contents in a temporary directory 'C:\\Users\\Ptd-1126\\AppData\\Local\\Temp\\pip-uninstall-bl86cesw'.\n",
      "  You can safely remove it manually.\n",
      "ERROR: pip's dependency resolver does not currently take into account all the packages that are installed. This behaviour is the source of the following dependency conflicts.\n",
      "httpx 0.13.3 requires httpcore==0.9.*, but you have httpcore 1.0.5 which is incompatible.\n",
      "openai 1.3.7 requires httpx<1,>=0.23.0, but you have httpx 0.13.3 which is incompatible.\n"
     ]
    }
   ],
   "source": [
    "pip install --upgrade mysql-connector-python httpcore"
   ]
  },
  {
   "cell_type": "code",
   "execution_count": 3,
   "metadata": {},
   "outputs": [
    {
     "name": "stdout",
     "output_type": "stream",
     "text": [
      "Requirement already satisfied: pymysql in c:\\users\\ptd-1126\\appdata\\local\\programs\\python\\python311\\lib\\site-packages (1.1.0)\n",
      "Note: you may need to restart the kernel to use updated packages.\n"
     ]
    }
   ],
   "source": [
    "pip install pymysql"
   ]
  },
  {
   "cell_type": "code",
   "execution_count": 19,
   "metadata": {},
   "outputs": [
    {
     "name": "stdout",
     "output_type": "stream",
     "text": [
      "Database 'smartHireIn' and table 'users' created successfully.\n"
     ]
    }
   ],
   "source": [
    "import pymysql\n",
    "\n",
    "def create_database_and_table():\n",
    "    # Connect to MySQL server\n",
    "    connection = pymysql.connect(\n",
    "        host=\"localhost\",\n",
    "        port=3307,\n",
    "        user=\"vinay\",\n",
    "        password=\"1234\"\n",
    "    )\n",
    "\n",
    "    try:\n",
    "        # Create a cursor object to interact with the database\n",
    "        cursor = connection.cursor()\n",
    "\n",
    "        # Create a new database named 'smartHireIn' if it doesn't already exist\n",
    "        cursor.execute(\"CREATE DATABASE IF NOT EXISTS smartHireIn\")\n",
    "\n",
    "        # Switch to the newly created database\n",
    "        cursor.execute(\"USE smartHireIn\")\n",
    "\n",
    "        # Create a table named 'users' with columns: username, useremail, and password\n",
    "        create_table_query = \"\"\"\n",
    "        CREATE TABLE IF NOT EXISTS users (\n",
    "            id INT AUTO_INCREMENT PRIMARY KEY,\n",
    "            username VARCHAR(255) NOT NULL,\n",
    "            useremail VARCHAR(255) NOT NULL,\n",
    "            password VARCHAR(255) NOT NULL\n",
    "        )\n",
    "        \"\"\"\n",
    "        cursor.execute(create_table_query)\n",
    "\n",
    "        # Commit the changes\n",
    "        connection.commit()\n",
    "\n",
    "        print(\"Database 'smartHireIn' and table 'users' created successfully.\")\n",
    "    except pymysql.MySQLError as e:\n",
    "        print(f\"Error: {e}\")\n",
    "    finally:\n",
    "        # Close the connection\n",
    "        connection.close()\n",
    "\n",
    "# Call the function to create the database and table\n",
    "create_database_and_table()\n"
   ]
  },
  {
   "cell_type": "code",
   "execution_count": 4,
   "metadata": {},
   "outputs": [
    {
     "name": "stdout",
     "output_type": "stream",
     "text": [
      "<pymysql.cursors.Cursor object at 0x000001CC4EC46B50>\n",
      "(('basic_info_form',), ('company',), ('location_form',), ('profile_form',), ('registration_form',))\n",
      "Table basic_info_form deleted.\n",
      "Table company deleted.\n",
      "Table location_form deleted.\n",
      "Table profile_form deleted.\n",
      "Table registration_form deleted.\n",
      "All tables deleted successfully.\n"
     ]
    }
   ],
   "source": [
    "import pymysql\n",
    "\n",
    "def delete_all_tables():\n",
    "    try:\n",
    "        # Connect to MySQL server\n",
    "        connection = pymysql.connect(\n",
    "            host=\"localhost\",\n",
    "            port=3307,  # Ensure the port number is an integer\n",
    "            user=\"vinay\",\n",
    "            password=\"1234\",\n",
    "            database=\"smartHireIn\"\n",
    "        )\n",
    "\n",
    "        # Create a cursor object to interact with the database\n",
    "        cursor = connection.cursor()\n",
    "\n",
    "        # Get a list of all tables in the database\n",
    "        cursor.execute(\"SHOW TABLES\")\n",
    "        print(cursor)\n",
    "        tables = cursor.fetchall()\n",
    "        print(tables)\n",
    "\n",
    "        # Delete each table\n",
    "        for table in tables:\n",
    "            cursor.execute(f\"DROP TABLE IF EXISTS {table[0]}\")\n",
    "            print(f\"Table {table[0]} deleted.\")\n",
    "\n",
    "        # Commit the changes\n",
    "        connection.commit()\n",
    "\n",
    "        print(\"All tables deleted successfully.\")\n",
    "\n",
    "    except pymysql.MySQLError as e:\n",
    "        print(f\"Error: {e}\")\n",
    "    finally:\n",
    "        # Ensure the connection is closed\n",
    "        if 'connection' in locals():\n",
    "            connection.close()\n",
    "\n",
    "# Call the functions\n",
    "delete_all_tables()                                                                                         "
   ]
  },
  {
   "cell_type": "code",
   "execution_count": 18,
   "metadata": {},
   "outputs": [
    {
     "name": "stdout",
     "output_type": "stream",
     "text": [
      "<pymysql.cursors.Cursor object at 0x000002335C718490>\n",
      "(('djangodb',), ('empdb',), ('guidb',), ('information_schema',), ('joindata',), ('modeldb',), ('mysql',), ('performance_schema',), ('smarthirein',), ('subqueries',), ('svs',), ('sys',), ('your_database_name',))\n",
      "Table djangodb deleted.\n",
      "Table empdb deleted.\n",
      "Table guidb deleted.\n",
      "Error: (1044, \"Access denied for user 'vinay'@'localhost' to database 'information_schema'\")\n"
     ]
    }
   ],
   "source": [
    "import pymysql\n",
    "\n",
    "def database_and_table():\n",
    "    # Connect to MySQL server\n",
    "    connection = pymysql.connect(\n",
    "        host=\"localhost\",\n",
    "        port=3307,\n",
    "        user=\"vinay\",\n",
    "        password=\"1234\"\n",
    "    )\n",
    "\n",
    "    try:\n",
    "        # Create a cursor object to interact with the database\n",
    "        cursor = connection.cursor()\n",
    "\n",
    "        # Get a list of all tables in the database\n",
    "        cursor.execute(\"SHOW DATABASES\")\n",
    "        print(cursor)\n",
    "        databases = cursor.fetchall()\n",
    "        print(databases)\n",
    "\n",
    "        # Delete each table\n",
    "        for database in databases:\n",
    "            cursor.execute(f\"DROP DATABASE {database[0]}\")\n",
    "            print(f\"Table {database[0]} deleted.\")\n",
    "\n",
    "        # Commit the changes\n",
    "        connection.commit()\n",
    "\n",
    "        print(\"All tables deleted successfully.\")\n",
    "    except pymysql.MySQLError as e:\n",
    "        print(f\"Error: {e}\")\n",
    "    finally:\n",
    "        # Ensure the connection is closed\n",
    "        if 'connection' in locals():\n",
    "            connection.close()\n",
    "        \n",
    "database_and_table()"
   ]
  },
  {
   "cell_type": "code",
   "execution_count": 1,
   "metadata": {},
   "outputs": [
    {
     "name": "stdout",
     "output_type": "stream",
     "text": [
      "OTP has been sent to research000dev@gmail.com\n",
      "OTP verified\n"
     ]
    },
    {
     "data": {
      "text/plain": [
       "(221,\n",
       " b'2.0.0 closing connection 98e67ed59e1d1-2bf5f31079bsm8925868a91.10 - gsmtp')"
      ]
     },
     "execution_count": 1,
     "metadata": {},
     "output_type": "execute_result"
    }
   ],
   "source": [
    "import random\n",
    "import smtplib\n",
    "\n",
    "OTP = random.randint(100000,999999)      #generating a randomm 6-digit OTP\n",
    "\n",
    "#setting up server\n",
    "server = smtplib.SMTP('smtp.gmail.com',587)\n",
    "#server = smtplib.SMTP('64.233.184.108',587)           #IP address of smtp.gmail.com to bypass DNS resolution\n",
    "server.starttls()\n",
    "\n",
    "name = input(\"enter your name:\")\n",
    "global receiver_email\n",
    "receiver_email = input(\"enter ur email id:\")\n",
    "\n",
    "def email_verification(receiver_email):\n",
    "    email_check1 = [\"gmail\",\"hotmail\",\"yahoo\",\"outlook\"]\n",
    "    email_check2 = [\".com\",\".in\",\".org\",\".edu\",\".co.in\"]\n",
    "    count = 0\n",
    "\n",
    "    for domain in email_check1:\n",
    "        if domain in receiver_email:\n",
    "            count+=1\n",
    "    for site in email_check2:\n",
    "        if site in receiver_email:\n",
    "            count+=1\n",
    "\n",
    "    if \"@\" not in receiver_email or count!=2:\n",
    "        print(\"invalid email id\")\n",
    "        new_receiver_email = input(\"enter correct email id:\")\n",
    "        email_verification(new_receiver_email)\n",
    "        return new_receiver_email\n",
    "    return receiver_email\n",
    "\n",
    "valid_receiver_email = email_verification(receiver_email)\n",
    "password = \"stqqwjqoocucknsx\"\n",
    "server.login(\"priyanshu25122002@gmail.com\",password)\n",
    "\n",
    "body = \"dear\"+name+\",\"+\"\\n\"+\"\\n\"+\"your OTP is \"+str(OTP)+\".\"\n",
    "subject = \"OTP verification using python\"\n",
    "message = f'subject:{subject}\\n\\n{body}'\n",
    "\n",
    "server.sendmail(\"priyanshu25122002@gmail.com\",valid_receiver_email,message)\n",
    "\n",
    "def sending_otp(receiver_email):\n",
    "    new_otp = random.randint(100000,999999)\n",
    "\n",
    "    body = \"dear\"+name+\",\"+\"\\n\"+\"\\n\"+\"your OTP is \"+str(new_otp)+\".\"\n",
    "    subject = \"OTP verification using python\" \n",
    "    message = f'subject:{subject}\\n\\n{body}'\n",
    "    server.sendmail(\"priyanshu25122002@gmail.com\",receiver_email,message)\n",
    "    print(\"OTP has been sent to\"+receiver_email)\n",
    "    received_OTP = int(input(\"enter OTP:\"))\n",
    "\n",
    "    if received_OTP==new_otp:\n",
    "        print(\"OTP verified\")\n",
    "    else:\n",
    "        print(\"invalid OTP\")\n",
    "        print(\"resending OTP.....\")\n",
    "        sending_otp(receiver_email)\n",
    "    \n",
    "print(\"OTP has been sent to \"+valid_receiver_email)\n",
    "received_OTP = int(input(\"enter OTP:\"))\n",
    "\n",
    "if received_OTP==OTP:\n",
    "    print(\"OTP verified\")\n",
    "else:\n",
    "    print(\"invalid OTP\")\n",
    "    answer = input(\"enter yes to resend OTP on same email and no to enter a new email id:\")\n",
    "    YES = ['YES','yes','Yes']\n",
    "    NO = ['NO','no','No']\n",
    "    if answer in YES:\n",
    "        sending_otp(valid_receiver_email)\n",
    "    elif answer in NO:\n",
    "        new_receiver_email = input(\"enter new email id:\")\n",
    "        email_verification(new_receiver_email)\n",
    "        sending_otp(new_receiver_email)\n",
    "    else:\n",
    "        print(\"invalid input\")\n",
    "\n",
    "server.quit()"
   ]
  },
  {
   "cell_type": "code",
   "execution_count": 4,
   "metadata": {},
   "outputs": [
    {
     "name": "stdout",
     "output_type": "stream",
     "text": [
      " * Serving Flask app '__main__'\n",
      " * Debug mode: on\n"
     ]
    },
    {
     "name": "stderr",
     "output_type": "stream",
     "text": [
      "WARNING: This is a development server. Do not use it in a production deployment. Use a production WSGI server instead.\n",
      " * Running on http://127.0.0.1:5000\n",
      "Press CTRL+C to quit\n",
      " * Restarting with stat\n"
     ]
    },
    {
     "ename": "SystemExit",
     "evalue": "1",
     "output_type": "error",
     "traceback": [
      "An exception has occurred, use %tb to see the full traceback.\n",
      "\u001b[1;31mSystemExit\u001b[0m\u001b[1;31m:\u001b[0m 1\n"
     ]
    }
   ],
   "source": [
    "import random\n",
    "import smtplib\n",
    "from flask import Flask, request, jsonify, render_template_string\n",
    "\n",
    "app = Flask(__name__)\n",
    "\n",
    "# HTML template string\n",
    "otp_template = \"\"\"\n",
    "<!DOCTYPE html>\n",
    "<html lang=\"en\">\n",
    "<head>\n",
    "    <meta charset=\"UTF-8\">\n",
    "    <meta name=\"viewport\" content=\"width=device-width, initial-scale=1.0\">\n",
    "    <style>\n",
    "        .container {\n",
    "            width: 80%;\n",
    "            margin: auto;\n",
    "            padding: 20px;\n",
    "            border: 1px solid #ccc;\n",
    "            box-shadow: 0 0 10px rgba(0, 0, 0, 0.1);\n",
    "            font-family: Arial, sans-serif;\n",
    "        }\n",
    "        .header {\n",
    "            background-color: #4CAF50;\n",
    "            color: white;\n",
    "            padding: 10px;\n",
    "            text-align: center;\n",
    "        }\n",
    "        .body {\n",
    "            margin-top: 20px;\n",
    "            text-align: left;\n",
    "        }\n",
    "        .footer {\n",
    "            margin-top: 20px;\n",
    "            text-align: center;\n",
    "            font-size: 12px;\n",
    "            color: #888;\n",
    "        }\n",
    "    </style>\n",
    "</head>\n",
    "<body>\n",
    "    <div class=\"container\">\n",
    "        <div class=\"header\">\n",
    "            <h1>OTP Verification</h1>\n",
    "        </div>\n",
    "        <div class=\"body\">\n",
    "            <p>Dear {{name}},</p>\n",
    "            <p>Your One-Time Password (OTP) is <strong>{{otp}}</strong>.</p>\n",
    "            <p>Please use this OTP to complete your verification process. This OTP is valid for a short period.</p>\n",
    "        </div>\n",
    "        <div class=\"footer\">\n",
    "            <p>If you did not request this OTP, please ignore this email.</p>\n",
    "        </div>\n",
    "    </div>\n",
    "</body>\n",
    "</html>\n",
    "\"\"\"\n",
    "\n",
    "def email_verification(email):\n",
    "    email_domains = [\"gmail\", \"hotmail\", \"yahoo\", \"outlook\"]\n",
    "    email_endings = [\".com\", \".in\", \".org\", \".edu\", \".co.in\"]\n",
    "    \n",
    "    if \"@\" not in email:\n",
    "        return False\n",
    "    \n",
    "    domain_part = email.split(\"@\")[1]\n",
    "    domain_check = any(domain in domain_part for domain in email_domains)\n",
    "    ending_check = any(domain_part.endswith(ending) for ending in email_endings)\n",
    "\n",
    "    return domain_check and ending_check\n",
    "\n",
    "def send_otp(email, name, otp):\n",
    "    server = smtplib.SMTP('smtp.gmail.com', 587)\n",
    "    server.starttls()\n",
    "    password = \"stqqwjqoocucknsx\"  # Replace with your actual app password\n",
    "    server.login(\"your_email@gmail.com\", password)\n",
    "    \n",
    "    body = render_template_string(otp_template, name=name, otp=otp)\n",
    "    subject = \"OTP Verification using Python\"\n",
    "    message = f\"Subject: {subject}\\nContent-Type: text/html\\n\\n{body}\"\n",
    "    \n",
    "    server.sendmail(\"your_email@gmail.com\", email, message)\n",
    "    server.quit()\n",
    "\n",
    "@app.route('/send-otp', methods=['POST'])\n",
    "def send_otp_route():\n",
    "    data = request.json\n",
    "    name = data.get('name')\n",
    "    email = data.get('email')\n",
    "    \n",
    "    if not email_verification(email):\n",
    "        return jsonify({\"error\": \"Invalid email address\"}), 400\n",
    "    \n",
    "    otp = random.randint(100000, 999999)\n",
    "    send_otp(email, name, otp)\n",
    "    \n",
    "    return jsonify({\"message\": f\"OTP has been sent to {email}. Please check your email.\"})\n",
    "\n",
    "if __name__ == '__main__':\n",
    "    app.run(debug=True)\n"
   ]
  }
 ],
 "metadata": {
  "kernelspec": {
   "display_name": "Python 3",
   "language": "python",
   "name": "python3"
  },
  "language_info": {
   "codemirror_mode": {
    "name": "ipython",
    "version": 3
   },
   "file_extension": ".py",
   "mimetype": "text/x-python",
   "name": "python",
   "nbconvert_exporter": "python",
   "pygments_lexer": "ipython3",
   "version": "3.11.5"
  }
 },
 "nbformat": 4,
 "nbformat_minor": 2
}
